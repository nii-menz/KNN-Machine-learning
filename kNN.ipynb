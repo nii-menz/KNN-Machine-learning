{
 "cells": [
  {
   "cell_type": "markdown",
   "id": "0299a8db-9b09-41c7-b5fa-25cd21a0acf5",
   "metadata": {},
   "source": [
    "## kNN - Part 1"
   ]
  },
  {
   "cell_type": "code",
   "execution_count": 2,
   "id": "731f0c4e-ad5f-452c-a416-66639ae59a77",
   "metadata": {},
   "outputs": [],
   "source": [
    "import pandas as pd\n",
    "import numpy as np\n",
    "from sklearn.datasets import fetch_california_housing"
   ]
  },
  {
   "cell_type": "code",
   "execution_count": 4,
   "id": "aa59b2bc-e70f-44e6-885b-6530a44ee5ba",
   "metadata": {},
   "outputs": [
    {
     "data": {
      "text/plain": [
       "{'data': array([[   8.3252    ,   41.        ,    6.98412698, ...,    2.55555556,\n",
       "           37.88      , -122.23      ],\n",
       "        [   8.3014    ,   21.        ,    6.23813708, ...,    2.10984183,\n",
       "           37.86      , -122.22      ],\n",
       "        [   7.2574    ,   52.        ,    8.28813559, ...,    2.80225989,\n",
       "           37.85      , -122.24      ],\n",
       "        ...,\n",
       "        [   1.7       ,   17.        ,    5.20554273, ...,    2.3256351 ,\n",
       "           39.43      , -121.22      ],\n",
       "        [   1.8672    ,   18.        ,    5.32951289, ...,    2.12320917,\n",
       "           39.43      , -121.32      ],\n",
       "        [   2.3886    ,   16.        ,    5.25471698, ...,    2.61698113,\n",
       "           39.37      , -121.24      ]]),\n",
       " 'target': array([4.526, 3.585, 3.521, ..., 0.923, 0.847, 0.894]),\n",
       " 'frame': None,\n",
       " 'target_names': ['MedHouseVal'],\n",
       " 'feature_names': ['MedInc',\n",
       "  'HouseAge',\n",
       "  'AveRooms',\n",
       "  'AveBedrms',\n",
       "  'Population',\n",
       "  'AveOccup',\n",
       "  'Latitude',\n",
       "  'Longitude'],\n",
       " 'DESCR': '.. _california_housing_dataset:\\n\\nCalifornia Housing dataset\\n--------------------------\\n\\n**Data Set Characteristics:**\\n\\n:Number of Instances: 20640\\n\\n:Number of Attributes: 8 numeric, predictive attributes and the target\\n\\n:Attribute Information:\\n    - MedInc        median income in block group\\n    - HouseAge      median house age in block group\\n    - AveRooms      average number of rooms per household\\n    - AveBedrms     average number of bedrooms per household\\n    - Population    block group population\\n    - AveOccup      average number of household members\\n    - Latitude      block group latitude\\n    - Longitude     block group longitude\\n\\n:Missing Attribute Values: None\\n\\nThis dataset was obtained from the StatLib repository.\\nhttps://www.dcc.fc.up.pt/~ltorgo/Regression/cal_housing.html\\n\\nThe target variable is the median house value for California districts,\\nexpressed in hundreds of thousands of dollars ($100,000).\\n\\nThis dataset was derived from the 1990 U.S. census, using one row per census\\nblock group. A block group is the smallest geographical unit for which the U.S.\\nCensus Bureau publishes sample data (a block group typically has a population\\nof 600 to 3,000 people).\\n\\nA household is a group of people residing within a home. Since the average\\nnumber of rooms and bedrooms in this dataset are provided per household, these\\ncolumns may take surprisingly large values for block groups with few households\\nand many empty houses, such as vacation resorts.\\n\\nIt can be downloaded/loaded using the\\n:func:`sklearn.datasets.fetch_california_housing` function.\\n\\n.. rubric:: References\\n\\n- Pace, R. Kelley and Ronald Barry, Sparse Spatial Autoregressions,\\n  Statistics and Probability Letters, 33 (1997) 291-297\\n'}"
      ]
     },
     "execution_count": 4,
     "metadata": {},
     "output_type": "execute_result"
    }
   ],
   "source": [
    "housing = fetch_california_housing()\n",
    "housing"
   ]
  },
  {
   "cell_type": "code",
   "execution_count": 10,
   "id": "590e03d7-8c00-4ed4-814e-8b3d0b0ed51a",
   "metadata": {},
   "outputs": [
    {
     "data": {
      "text/plain": [
       "(20640, 8)"
      ]
     },
     "execution_count": 10,
     "metadata": {},
     "output_type": "execute_result"
    }
   ],
   "source": [
    "df = pd.DataFrame(housing.data, columns = housing.feature_names)\n",
    "df.shape"
   ]
  },
  {
   "cell_type": "code",
   "execution_count": 12,
   "id": "f79551e5-c272-4541-938b-07ca12cf9013",
   "metadata": {},
   "outputs": [
    {
     "data": {
      "text/html": [
       "<div>\n",
       "<style scoped>\n",
       "    .dataframe tbody tr th:only-of-type {\n",
       "        vertical-align: middle;\n",
       "    }\n",
       "\n",
       "    .dataframe tbody tr th {\n",
       "        vertical-align: top;\n",
       "    }\n",
       "\n",
       "    .dataframe thead th {\n",
       "        text-align: right;\n",
       "    }\n",
       "</style>\n",
       "<table border=\"1\" class=\"dataframe\">\n",
       "  <thead>\n",
       "    <tr style=\"text-align: right;\">\n",
       "      <th></th>\n",
       "      <th>MedInc</th>\n",
       "      <th>HouseAge</th>\n",
       "      <th>AveRooms</th>\n",
       "      <th>AveBedrms</th>\n",
       "      <th>Population</th>\n",
       "      <th>AveOccup</th>\n",
       "      <th>Latitude</th>\n",
       "      <th>Longitude</th>\n",
       "    </tr>\n",
       "  </thead>\n",
       "  <tbody>\n",
       "    <tr>\n",
       "      <th>0</th>\n",
       "      <td>8.3252</td>\n",
       "      <td>41.0</td>\n",
       "      <td>6.984127</td>\n",
       "      <td>1.023810</td>\n",
       "      <td>322.0</td>\n",
       "      <td>2.555556</td>\n",
       "      <td>37.88</td>\n",
       "      <td>-122.23</td>\n",
       "    </tr>\n",
       "    <tr>\n",
       "      <th>1</th>\n",
       "      <td>8.3014</td>\n",
       "      <td>21.0</td>\n",
       "      <td>6.238137</td>\n",
       "      <td>0.971880</td>\n",
       "      <td>2401.0</td>\n",
       "      <td>2.109842</td>\n",
       "      <td>37.86</td>\n",
       "      <td>-122.22</td>\n",
       "    </tr>\n",
       "    <tr>\n",
       "      <th>2</th>\n",
       "      <td>7.2574</td>\n",
       "      <td>52.0</td>\n",
       "      <td>8.288136</td>\n",
       "      <td>1.073446</td>\n",
       "      <td>496.0</td>\n",
       "      <td>2.802260</td>\n",
       "      <td>37.85</td>\n",
       "      <td>-122.24</td>\n",
       "    </tr>\n",
       "  </tbody>\n",
       "</table>\n",
       "</div>"
      ],
      "text/plain": [
       "   MedInc  HouseAge  AveRooms  AveBedrms  Population  AveOccup  Latitude  \\\n",
       "0  8.3252      41.0  6.984127   1.023810       322.0  2.555556     37.88   \n",
       "1  8.3014      21.0  6.238137   0.971880      2401.0  2.109842     37.86   \n",
       "2  7.2574      52.0  8.288136   1.073446       496.0  2.802260     37.85   \n",
       "\n",
       "   Longitude  \n",
       "0    -122.23  \n",
       "1    -122.22  \n",
       "2    -122.24  "
      ]
     },
     "execution_count": 12,
     "metadata": {},
     "output_type": "execute_result"
    }
   ],
   "source": [
    "df.head(3)"
   ]
  },
  {
   "cell_type": "code",
   "execution_count": 14,
   "id": "964dc1bb-e2dd-4f3a-aaa4-01ca9b4db8ae",
   "metadata": {},
   "outputs": [
    {
     "data": {
      "text/html": [
       "<div>\n",
       "<style scoped>\n",
       "    .dataframe tbody tr th:only-of-type {\n",
       "        vertical-align: middle;\n",
       "    }\n",
       "\n",
       "    .dataframe tbody tr th {\n",
       "        vertical-align: top;\n",
       "    }\n",
       "\n",
       "    .dataframe thead th {\n",
       "        text-align: right;\n",
       "    }\n",
       "</style>\n",
       "<table border=\"1\" class=\"dataframe\">\n",
       "  <thead>\n",
       "    <tr style=\"text-align: right;\">\n",
       "      <th></th>\n",
       "      <th>AveRooms</th>\n",
       "      <th>AveBedrms</th>\n",
       "    </tr>\n",
       "  </thead>\n",
       "  <tbody>\n",
       "    <tr>\n",
       "      <th>0</th>\n",
       "      <td>6.984127</td>\n",
       "      <td>1.023810</td>\n",
       "    </tr>\n",
       "    <tr>\n",
       "      <th>1</th>\n",
       "      <td>6.238137</td>\n",
       "      <td>0.971880</td>\n",
       "    </tr>\n",
       "    <tr>\n",
       "      <th>2</th>\n",
       "      <td>8.288136</td>\n",
       "      <td>1.073446</td>\n",
       "    </tr>\n",
       "  </tbody>\n",
       "</table>\n",
       "</div>"
      ],
      "text/plain": [
       "   AveRooms  AveBedrms\n",
       "0  6.984127   1.023810\n",
       "1  6.238137   0.971880\n",
       "2  8.288136   1.073446"
      ]
     },
     "execution_count": 14,
     "metadata": {},
     "output_type": "execute_result"
    }
   ],
   "source": [
    "X = df[['AveRooms','AveBedrms']]\n",
    "X.head(3)"
   ]
  },
  {
   "cell_type": "code",
   "execution_count": 16,
   "id": "5ab7166c-2b64-459d-acbd-d735dbce0420",
   "metadata": {},
   "outputs": [
    {
     "data": {
      "text/plain": [
       "array([4.526, 3.585, 3.521, ..., 0.923, 0.847, 0.894])"
      ]
     },
     "execution_count": 16,
     "metadata": {},
     "output_type": "execute_result"
    }
   ],
   "source": [
    "y = housing.target\n",
    "y"
   ]
  },
  {
   "cell_type": "code",
   "execution_count": 41,
   "id": "1c63b8a2-f58a-4bdf-b06c-883931f9308f",
   "metadata": {},
   "outputs": [],
   "source": [
    "from sklearn.model_selection import train_test_split\n",
    "X_train, X_test, y_train, y_test = train_test_split(X, y, test_size= 0.1, random_state = 110 ) "
   ]
  },
  {
   "cell_type": "markdown",
   "id": "5cf38567-f933-4f01-8a48-3fbc8177890a",
   "metadata": {},
   "source": [
    "#### Manhatan distance"
   ]
  },
  {
   "cell_type": "code",
   "execution_count": 175,
   "id": "fe4089bd-be1e-4296-ab54-922ecc8286da",
   "metadata": {},
   "outputs": [],
   "source": [
    "# Assume that we are in 2D and have 2 points : p and q\n",
    "# p: (p_1,p_2) , q : (q_1,q_2)\n",
    "# compute diff : (p_1 - q_1),(p_2 - q_2)\n",
    "# Absolute  diffs\n",
    "# Sum of Absolute\n",
    "# Take the square root\n",
    "\n",
    "def manhatan_distance(p,q):\n",
    "    return np.sum(np.abs(p-q))\n",
    "    "
   ]
  },
  {
   "cell_type": "markdown",
   "id": "1f556078-a4c5-4748-a42f-a79495c46fab",
   "metadata": {},
   "source": [
    "#### Euclidean distance"
   ]
  },
  {
   "cell_type": "code",
   "execution_count": 178,
   "id": "34d02a79-f664-4db5-91a9-cb58779e1b09",
   "metadata": {},
   "outputs": [],
   "source": [
    "# we are in 2D and have 2 points : p and q\n",
    "# p: (p_1,p_2) , q : (q_1,q_2)\n",
    "# compute diff : (p_1 - q_1),(p_2 - q_2)\n",
    "# Square diffs\n",
    "# Sum of Squares\n",
    "# Take the square root\n",
    "\n",
    "def euclidean_distance(p,q):\n",
    "    return np.sqrt(sum((p-q)**2))\n",
    "    "
   ]
  },
  {
   "cell_type": "markdown",
   "id": "fa9c0714-8c62-467a-890a-1095041d1d72",
   "metadata": {},
   "source": [
    "#### Minkowski distance"
   ]
  },
  {
   "cell_type": "code",
   "execution_count": 213,
   "id": "eba71d50-ec04-4483-86e9-bfd37030dba1",
   "metadata": {},
   "outputs": [],
   "source": [
    "def minkowski_distance(p,q,n=3):\n",
    "    return np.power(np.sum((p-q)**n),1/n)\n",
    "    "
   ]
  },
  {
   "cell_type": "code",
   "execution_count": null,
   "id": "12af124d-85ad-4218-baa8-7bb92a0fd3f1",
   "metadata": {},
   "outputs": [],
   "source": []
  },
  {
   "cell_type": "code",
   "execution_count": 211,
   "id": "d75b1283-368f-403c-a0c4-5638e6f3fcb9",
   "metadata": {},
   "outputs": [
    {
     "data": {
      "text/plain": [
       "4.497941445275415"
      ]
     },
     "execution_count": 211,
     "metadata": {},
     "output_type": "execute_result"
    }
   ],
   "source": [
    "p = np.array([3,4])\n",
    "q = np.array([0,0])\n",
    "minkowski_distance(p,q)"
   ]
  },
  {
   "cell_type": "code",
   "execution_count": 67,
   "id": "ab5961cd-079d-4f05-a429-2868ae6a9ed0",
   "metadata": {},
   "outputs": [
    {
     "data": {
      "text/html": [
       "<div>\n",
       "<style scoped>\n",
       "    .dataframe tbody tr th:only-of-type {\n",
       "        vertical-align: middle;\n",
       "    }\n",
       "\n",
       "    .dataframe tbody tr th {\n",
       "        vertical-align: top;\n",
       "    }\n",
       "\n",
       "    .dataframe thead th {\n",
       "        text-align: right;\n",
       "    }\n",
       "</style>\n",
       "<table border=\"1\" class=\"dataframe\">\n",
       "  <thead>\n",
       "    <tr style=\"text-align: right;\">\n",
       "      <th></th>\n",
       "      <th>AveRooms</th>\n",
       "      <th>AveBedrms</th>\n",
       "    </tr>\n",
       "  </thead>\n",
       "  <tbody>\n",
       "    <tr>\n",
       "      <th>1200</th>\n",
       "      <td>5.000000</td>\n",
       "      <td>1.004132</td>\n",
       "    </tr>\n",
       "    <tr>\n",
       "      <th>3026</th>\n",
       "      <td>5.495103</td>\n",
       "      <td>1.048966</td>\n",
       "    </tr>\n",
       "    <tr>\n",
       "      <th>13675</th>\n",
       "      <td>3.745014</td>\n",
       "      <td>1.078348</td>\n",
       "    </tr>\n",
       "    <tr>\n",
       "      <th>1884</th>\n",
       "      <td>6.794224</td>\n",
       "      <td>1.494585</td>\n",
       "    </tr>\n",
       "    <tr>\n",
       "      <th>19470</th>\n",
       "      <td>4.896552</td>\n",
       "      <td>1.068966</td>\n",
       "    </tr>\n",
       "    <tr>\n",
       "      <th>19712</th>\n",
       "      <td>6.533170</td>\n",
       "      <td>0.972973</td>\n",
       "    </tr>\n",
       "    <tr>\n",
       "      <th>1719</th>\n",
       "      <td>5.533981</td>\n",
       "      <td>1.056311</td>\n",
       "    </tr>\n",
       "    <tr>\n",
       "      <th>15197</th>\n",
       "      <td>7.425926</td>\n",
       "      <td>0.985185</td>\n",
       "    </tr>\n",
       "    <tr>\n",
       "      <th>17589</th>\n",
       "      <td>4.116711</td>\n",
       "      <td>1.075597</td>\n",
       "    </tr>\n",
       "    <tr>\n",
       "      <th>7322</th>\n",
       "      <td>3.220310</td>\n",
       "      <td>0.956971</td>\n",
       "    </tr>\n",
       "  </tbody>\n",
       "</table>\n",
       "</div>"
      ],
      "text/plain": [
       "       AveRooms  AveBedrms\n",
       "1200   5.000000   1.004132\n",
       "3026   5.495103   1.048966\n",
       "13675  3.745014   1.078348\n",
       "1884   6.794224   1.494585\n",
       "19470  4.896552   1.068966\n",
       "19712  6.533170   0.972973\n",
       "1719   5.533981   1.056311\n",
       "15197  7.425926   0.985185\n",
       "17589  4.116711   1.075597\n",
       "7322   3.220310   0.956971"
      ]
     },
     "execution_count": 67,
     "metadata": {},
     "output_type": "execute_result"
    }
   ],
   "source": [
    "subset_X_train = X_train.iloc[0:10]\n",
    "subset_X_train"
   ]
  },
  {
   "cell_type": "code",
   "execution_count": 232,
   "id": "df20d706-bfb4-4268-9db3-f1d3ee7d51ca",
   "metadata": {},
   "outputs": [],
   "source": [
    "def knn_reg(X_train,y_train,new_sample,k=3):\n",
    "    distances = []\n",
    "    for x in X_train.to_numpy():\n",
    "        distance = euclidean_distance(new_sample,x)\n",
    "        distances.append(distance)\n",
    "    sorted_distances = np.argsort(distances)\n",
    "    k_nearest_targets = y_train[sorted_distances[:k]]    \n",
    "    prediction = np.mean(k_nearest_targets)\n",
    "    \n",
    "    return prediction"
   ]
  },
  {
   "cell_type": "code",
   "execution_count": 182,
   "id": "bc901bf0-e5e6-4550-b6ea-60570c383277",
   "metadata": {},
   "outputs": [
    {
     "data": {
      "text/plain": [
       "1.0416666666666667"
      ]
     },
     "execution_count": 182,
     "metadata": {},
     "output_type": "execute_result"
    }
   ],
   "source": [
    "prediction"
   ]
  },
  {
   "cell_type": "code",
   "execution_count": 234,
   "id": "be59879c-c695-4755-8bf2-545f5d083b02",
   "metadata": {},
   "outputs": [
    {
     "data": {
      "text/plain": [
       "1.0416666666666667"
      ]
     },
     "execution_count": 234,
     "metadata": {},
     "output_type": "execute_result"
    }
   ],
   "source": [
    "new_sample =  np.array([4,5])\n",
    "knn_reg(X_train,y_train,new_sample,k=3)"
   ]
  },
  {
   "cell_type": "code",
   "execution_count": 217,
   "id": "9422e2ae-7081-4a16-b7fd-0296a8e02ca4",
   "metadata": {},
   "outputs": [],
   "source": [
    "test_sample = X_test.iloc[30]"
   ]
  },
  {
   "cell_type": "code",
   "execution_count": 236,
   "id": "73c45980-9a37-4445-a3a2-b54c6f140c8b",
   "metadata": {},
   "outputs": [
    {
     "name": "stdout",
     "output_type": "stream",
     "text": [
      "prediction is : 1.2744\n"
     ]
    }
   ],
   "source": [
    "print (\"prediction is :\" , knn_reg(X_train,y_train,test_sample,k=5))"
   ]
  },
  {
   "cell_type": "code",
   "execution_count": 221,
   "id": "abb8b7ae-48c9-4184-a2f0-6c0c3c5e3b7c",
   "metadata": {},
   "outputs": [
    {
     "name": "stdout",
     "output_type": "stream",
     "text": [
      "Actual price is :  1.657\n"
     ]
    }
   ],
   "source": [
    "print(\"Actual price is : \",y_test[30])"
   ]
  },
  {
   "cell_type": "code",
   "execution_count": 223,
   "id": "9bbf9f5d-60b3-4a4b-b366-b36501f79808",
   "metadata": {},
   "outputs": [
    {
     "name": "stderr",
     "output_type": "stream",
     "text": [
      "/var/folders/qt/ytg6jkts3dn3qp0gd_3041b00000gn/T/ipykernel_75225/3775484769.py:2: RuntimeWarning: invalid value encountered in power\n",
      "  return np.power(np.sum((p-q)**n),1/n)\n"
     ]
    }
   ],
   "source": [
    "y_hats = []\n",
    "for x in X_test.to_numpy():\n",
    "    y_hat = knn_reg(X_train,y_train,x,k=5)\n",
    "    y_hats.append(y_hat)\n",
    "    "
   ]
  },
  {
   "cell_type": "markdown",
   "id": "5a92d2ec-f1e8-49cf-af9b-a7adb5edc607",
   "metadata": {},
   "source": [
    "### MSE"
   ]
  },
  {
   "cell_type": "code",
   "execution_count": 225,
   "id": "f9a3e8ce-dd06-4b68-a635-fd8428e570fb",
   "metadata": {},
   "outputs": [
    {
     "data": {
      "text/plain": [
       "1.212343575902785"
      ]
     },
     "execution_count": 225,
     "metadata": {},
     "output_type": "execute_result"
    }
   ],
   "source": [
    "# 1/n * sum (y-y_hat)**2\n",
    "\n",
    "from sklearn.metrics import mean_squared_error\n",
    "\n",
    "mse = mean_squared_error(y_test,y_hats)\n",
    "mse"
   ]
  },
  {
   "cell_type": "code",
   "execution_count": 238,
   "id": "309e4fdd-ed96-4ea6-8b81-31fbf8dc6a28",
   "metadata": {},
   "outputs": [
    {
     "name": "stdout",
     "output_type": "stream",
     "text": [
      "Error for k =  5  is  1.1877747641786822\n",
      "\n",
      "Error for k =  7  is  1.1877747641786822\n",
      "\n",
      "Error for k =  9  is  1.1877747641786822\n",
      "\n",
      "Error for k =  11  is  1.1877747641786822\n",
      "\n"
     ]
    },
    {
     "ename": "KeyboardInterrupt",
     "evalue": "",
     "output_type": "error",
     "traceback": [
      "\u001b[0;31m---------------------------------------------------------------------------\u001b[0m",
      "\u001b[0;31mKeyboardInterrupt\u001b[0m                         Traceback (most recent call last)",
      "Cell \u001b[0;32mIn[238], line 4\u001b[0m\n\u001b[1;32m      2\u001b[0m y_hats \u001b[38;5;241m=\u001b[39m []\n\u001b[1;32m      3\u001b[0m \u001b[38;5;28;01mfor\u001b[39;00m x \u001b[38;5;129;01min\u001b[39;00m X_test\u001b[38;5;241m.\u001b[39mto_numpy():\n\u001b[0;32m----> 4\u001b[0m     y_hat \u001b[38;5;241m=\u001b[39m knn_reg(X_train,y_train,x,k\u001b[38;5;241m=\u001b[39m\u001b[38;5;241m5\u001b[39m)\n\u001b[1;32m      5\u001b[0m     y_hats\u001b[38;5;241m.\u001b[39mappend(y_hat)\n\u001b[1;32m      6\u001b[0m \u001b[38;5;28mprint\u001b[39m(\u001b[38;5;124m\"\u001b[39m\u001b[38;5;124mError for k = \u001b[39m\u001b[38;5;124m\"\u001b[39m, k , \u001b[38;5;124m\"\u001b[39m\u001b[38;5;124m is \u001b[39m\u001b[38;5;124m\"\u001b[39m, mean_squared_error(y_test,y_hats))\n",
      "Cell \u001b[0;32mIn[232], line 4\u001b[0m, in \u001b[0;36mknn_reg\u001b[0;34m(X_train, y_train, new_sample, k)\u001b[0m\n\u001b[1;32m      2\u001b[0m distances \u001b[38;5;241m=\u001b[39m []\n\u001b[1;32m      3\u001b[0m \u001b[38;5;28;01mfor\u001b[39;00m x \u001b[38;5;129;01min\u001b[39;00m X_train\u001b[38;5;241m.\u001b[39mto_numpy():\n\u001b[0;32m----> 4\u001b[0m     distance \u001b[38;5;241m=\u001b[39m euclidean_distance(new_sample,x)\n\u001b[1;32m      5\u001b[0m     distances\u001b[38;5;241m.\u001b[39mappend(distance)\n\u001b[1;32m      6\u001b[0m sorted_distances \u001b[38;5;241m=\u001b[39m np\u001b[38;5;241m.\u001b[39margsort(distances)\n",
      "Cell \u001b[0;32mIn[178], line 9\u001b[0m, in \u001b[0;36meuclidean_distance\u001b[0;34m(p, q)\u001b[0m\n\u001b[1;32m      8\u001b[0m \u001b[38;5;28;01mdef\u001b[39;00m \u001b[38;5;21meuclidean_distance\u001b[39m(p,q):\n\u001b[0;32m----> 9\u001b[0m     \u001b[38;5;28;01mreturn\u001b[39;00m np\u001b[38;5;241m.\u001b[39msqrt(\u001b[38;5;28msum\u001b[39m((p\u001b[38;5;241m-\u001b[39mq)\u001b[38;5;241m*\u001b[39m\u001b[38;5;241m*\u001b[39m\u001b[38;5;241m2\u001b[39m))\n",
      "\u001b[0;31mKeyboardInterrupt\u001b[0m: "
     ]
    }
   ],
   "source": [
    "for k in range(5,15,2):\n",
    "    y_hats = []\n",
    "    for x in X_test.to_numpy():\n",
    "        y_hat = knn_reg(X_train,y_train,x,k=5)\n",
    "        y_hats.append(y_hat)\n",
    "    print(\"Error for k = \", k , \" is \", mean_squared_error(y_test,y_hats))\n",
    "    print()    "
   ]
  },
  {
   "cell_type": "markdown",
   "id": "c50b7f99-2cc2-4cdd-a641-35b7b522c129",
   "metadata": {},
   "source": [
    "## Weighted kNN"
   ]
  },
  {
   "cell_type": "code",
   "execution_count": null,
   "id": "90f95095-fc20-45cc-be0f-92a826bc1d3a",
   "metadata": {},
   "outputs": [],
   "source": [
    "### weighted avg = weighted sum/ sum of weights\n"
   ]
  },
  {
   "cell_type": "code",
   "execution_count": 253,
   "id": "4e45f14b-71b4-4da4-bfed-96b461aada77",
   "metadata": {},
   "outputs": [],
   "source": [
    "def weighted_knn_reg(X_train,y_train,new_sample,k=3):\n",
    "    distances = []\n",
    "    for x in X_train.to_numpy():\n",
    "        distance = euclidean_distance(new_sample,x)\n",
    "        distances.append(distance)\n",
    "    sorted_distances = np.argsort(distances)\n",
    "\n",
    "    #get the distances\n",
    "    k_nearest_distances = np.array(distances)[sorted_distances[:k]]\n",
    "    k_nearest_targets = y_train[sorted_distances[:k]] \n",
    "\n",
    "    weights = 1 / (k_nearest_distances + 1e-20)\n",
    "\n",
    "    #weighted avg\n",
    "    weighted_sum = sum(weights * k_nearest_targets)\n",
    "    weights_sum = sum(weights)\n",
    "    prediction = weighted_sum/weights_sum\n",
    "    \n",
    "    return prediction"
   ]
  },
  {
   "cell_type": "code",
   "execution_count": 243,
   "id": "22d7f09b-da59-43a4-93e0-11c2f6810214",
   "metadata": {},
   "outputs": [
    {
     "data": {
      "text/plain": [
       "array([  999, 14391, 18389])"
      ]
     },
     "execution_count": 243,
     "metadata": {},
     "output_type": "execute_result"
    }
   ],
   "source": [
    "sorted_distances[:3]"
   ]
  },
  {
   "cell_type": "code",
   "execution_count": 247,
   "id": "47a62c93-f849-4449-b9ae-200fa0b5e8d9",
   "metadata": {},
   "outputs": [
    {
     "data": {
      "text/plain": [
       "array([2.49615088, 2.65900592, 3.14042113, 3.20156212, 3.23526177,\n",
       "       3.35701225, 3.38972862, 3.42915587, 3.45160546, 3.49020952,\n",
       "       3.50008251, 3.51200169, 3.52299748])"
      ]
     },
     "execution_count": 247,
     "metadata": {},
     "output_type": "execute_result"
    }
   ],
   "source": [
    "np.array(distances)[sorted_distances[:k]]"
   ]
  },
  {
   "cell_type": "code",
   "execution_count": 255,
   "id": "efa694ec-edb1-44df-9c4b-2cf7c4b8c2a1",
   "metadata": {},
   "outputs": [],
   "source": [
    "y_hats = []\n",
    "for x in X_test.to_numpy():\n",
    "    y_hat = weighted_knn_reg(X_train,y_train,x,k=5)\n",
    "    y_hats.append(y_hat)"
   ]
  },
  {
   "cell_type": "code",
   "execution_count": 256,
   "id": "9dfeb7e3-40bb-4d55-b61f-0e11a4f87605",
   "metadata": {},
   "outputs": [
    {
     "data": {
      "text/plain": [
       "1.224115740356256"
      ]
     },
     "execution_count": 256,
     "metadata": {},
     "output_type": "execute_result"
    }
   ],
   "source": [
    "mse = mean_squared_error(y_test,y_hats)\n",
    "mse"
   ]
  },
  {
   "cell_type": "code",
   "execution_count": null,
   "id": "948ead72-2dc8-43c8-8680-2ed95d29caff",
   "metadata": {},
   "outputs": [],
   "source": []
  }
 ],
 "metadata": {
  "kernelspec": {
   "display_name": "Python [conda env:base] *",
   "language": "python",
   "name": "conda-base-py"
  },
  "language_info": {
   "codemirror_mode": {
    "name": "ipython",
    "version": 3
   },
   "file_extension": ".py",
   "mimetype": "text/x-python",
   "name": "python",
   "nbconvert_exporter": "python",
   "pygments_lexer": "ipython3",
   "version": "3.12.7"
  }
 },
 "nbformat": 4,
 "nbformat_minor": 5
}
